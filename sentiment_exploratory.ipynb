{
 "cells": [
  {
   "cell_type": "code",
   "execution_count": 2,
   "metadata": {},
   "outputs": [],
   "source": [
    "import pandas as pd\n",
    "from sqlalchemy import create_engine\n",
    "import datetime\n",
    "import matplotlib.pyplot as plt\n",
    "import numpy as np\n",
    "\n",
    "import nltk\n",
    "from nltk.corpus import stopwords\n",
    "import re\n",
    "import networkx\n",
    "from textblob import TextBlob\n",
    "\n",
    "import warnings\n",
    "warnings.filterwarnings(\"ignore\")"
   ]
  },
  {
   "cell_type": "code",
   "execution_count": 3,
   "metadata": {},
   "outputs": [],
   "source": [
    "# engine = create_engine(\"sqlite:///data/hashtag2020.db\", echo=True)\n",
    "# conn = engine.connect()"
   ]
  },
  {
   "cell_type": "code",
   "execution_count": 4,
   "metadata": {},
   "outputs": [],
   "source": [
    "# #Create the table. If we use automap_base, the table must have a primary key\n",
    "# conn.execute(\"\"\"\n",
    "#     CREATE TABLE IF NOT EXISTS tweet_counts (\n",
    "#         id integer PRIMARY KEY,\n",
    "#         created_at TEXT,\n",
    "#         tweet VARCHAR(280),\n",
    "#         likes integer,\n",
    "#         retweet_count integer,\n",
    "#         source VARCHAR(30),\n",
    "#         lat integer,\n",
    "#         long integer,\n",
    "#         city VARCHAR(100),\n",
    "#         state_code VARCHAR(5),\n",
    "#         hashtag VARCHAR(10),\n",
    "#         Date TEXT,\n",
    "#         Time TEXT,\n",
    "#         polarity integer,\n",
    "#         analysis VARCHAR(20)\n",
    "        \n",
    "#     )\n",
    "# \"\"\")"
   ]
  },
  {
   "cell_type": "code",
   "execution_count": 5,
   "metadata": {},
   "outputs": [],
   "source": [
    "trump_csv_path = \"../hashtag_donaldtrump.csv\"\n",
    "biden_csv_path = \"../hashtag_joebiden.csv\""
   ]
  },
  {
   "cell_type": "code",
   "execution_count": 6,
   "metadata": {},
   "outputs": [],
   "source": [
    "trump_data_df = pd.read_csv(trump_csv_path, lineterminator='\\n')\n",
    "biden_data_df = pd.read_csv(biden_csv_path, lineterminator='\\n')"
   ]
  },
  {
   "cell_type": "code",
   "execution_count": 7,
   "metadata": {},
   "outputs": [],
   "source": [
    "trump_data_df[\"hashtag\"]=\"Trump\"\n",
    "biden_data_df[\"hashtag\"]=\"Biden\""
   ]
  },
  {
   "cell_type": "code",
   "execution_count": 8,
   "metadata": {},
   "outputs": [],
   "source": [
    "tweet_df = pd.concat([trump_data_df, biden_data_df])"
   ]
  },
  {
   "cell_type": "code",
   "execution_count": 9,
   "metadata": {},
   "outputs": [],
   "source": [
    "tweet_df[\"created_at\"]=pd.to_datetime(tweet_df.created_at)"
   ]
  },
  {
   "cell_type": "code",
   "execution_count": 10,
   "metadata": {},
   "outputs": [
    {
     "data": {
      "text/html": [
       "<div>\n",
       "<style scoped>\n",
       "    .dataframe tbody tr th:only-of-type {\n",
       "        vertical-align: middle;\n",
       "    }\n",
       "\n",
       "    .dataframe tbody tr th {\n",
       "        vertical-align: top;\n",
       "    }\n",
       "\n",
       "    .dataframe thead th {\n",
       "        text-align: right;\n",
       "    }\n",
       "</style>\n",
       "<table border=\"1\" class=\"dataframe\">\n",
       "  <thead>\n",
       "    <tr style=\"text-align: right;\">\n",
       "      <th></th>\n",
       "      <th>created_at</th>\n",
       "      <th>tweet_id</th>\n",
       "      <th>tweet</th>\n",
       "      <th>likes</th>\n",
       "      <th>retweet_count</th>\n",
       "      <th>source</th>\n",
       "      <th>user_id</th>\n",
       "      <th>user_name</th>\n",
       "      <th>user_screen_name</th>\n",
       "      <th>user_description</th>\n",
       "      <th>...</th>\n",
       "      <th>user_location</th>\n",
       "      <th>lat</th>\n",
       "      <th>long</th>\n",
       "      <th>city</th>\n",
       "      <th>country</th>\n",
       "      <th>continent</th>\n",
       "      <th>state</th>\n",
       "      <th>state_code</th>\n",
       "      <th>collected_at</th>\n",
       "      <th>hashtag</th>\n",
       "    </tr>\n",
       "  </thead>\n",
       "  <tbody>\n",
       "    <tr>\n",
       "      <th>0</th>\n",
       "      <td>2020-10-15 00:00:01</td>\n",
       "      <td>1.316529e+18</td>\n",
       "      <td>#Elecciones2020 | En #Florida: #JoeBiden dice ...</td>\n",
       "      <td>0.0</td>\n",
       "      <td>0.0</td>\n",
       "      <td>TweetDeck</td>\n",
       "      <td>3.606665e+08</td>\n",
       "      <td>El Sol Latino News</td>\n",
       "      <td>elsollatinonews</td>\n",
       "      <td>🌐 Noticias de interés para latinos de la costa...</td>\n",
       "      <td>...</td>\n",
       "      <td>Philadelphia, PA / Miami, FL</td>\n",
       "      <td>25.774270</td>\n",
       "      <td>-80.193660</td>\n",
       "      <td>NaN</td>\n",
       "      <td>United States of America</td>\n",
       "      <td>North America</td>\n",
       "      <td>Florida</td>\n",
       "      <td>FL</td>\n",
       "      <td>2020-10-21 00:00:00</td>\n",
       "      <td>Trump</td>\n",
       "    </tr>\n",
       "    <tr>\n",
       "      <th>0</th>\n",
       "      <td>2020-10-15 00:00:01</td>\n",
       "      <td>1.316529e+18</td>\n",
       "      <td>#Elecciones2020 | En #Florida: #JoeBiden dice ...</td>\n",
       "      <td>0.0</td>\n",
       "      <td>0.0</td>\n",
       "      <td>TweetDeck</td>\n",
       "      <td>3.606665e+08</td>\n",
       "      <td>El Sol Latino News</td>\n",
       "      <td>elsollatinonews</td>\n",
       "      <td>🌐 Noticias de interés para latinos de la costa...</td>\n",
       "      <td>...</td>\n",
       "      <td>Philadelphia, PA / Miami, FL</td>\n",
       "      <td>25.774270</td>\n",
       "      <td>-80.193660</td>\n",
       "      <td>NaN</td>\n",
       "      <td>United States of America</td>\n",
       "      <td>North America</td>\n",
       "      <td>Florida</td>\n",
       "      <td>FL</td>\n",
       "      <td>2020-10-21 00:00:00</td>\n",
       "      <td>Biden</td>\n",
       "    </tr>\n",
       "    <tr>\n",
       "      <th>1</th>\n",
       "      <td>2020-10-15 00:00:01</td>\n",
       "      <td>1.316529e+18</td>\n",
       "      <td>Usa 2020, Trump contro Facebook e Twitter: cop...</td>\n",
       "      <td>26.0</td>\n",
       "      <td>9.0</td>\n",
       "      <td>Social Mediaset</td>\n",
       "      <td>3.316176e+08</td>\n",
       "      <td>Tgcom24</td>\n",
       "      <td>MediasetTgcom24</td>\n",
       "      <td>Profilo ufficiale di Tgcom24: tutte le notizie...</td>\n",
       "      <td>...</td>\n",
       "      <td>NaN</td>\n",
       "      <td>NaN</td>\n",
       "      <td>NaN</td>\n",
       "      <td>NaN</td>\n",
       "      <td>NaN</td>\n",
       "      <td>NaN</td>\n",
       "      <td>NaN</td>\n",
       "      <td>NaN</td>\n",
       "      <td>2020-10-21 00:00:00.373216530</td>\n",
       "      <td>Trump</td>\n",
       "    </tr>\n",
       "    <tr>\n",
       "      <th>2</th>\n",
       "      <td>2020-10-15 00:00:02</td>\n",
       "      <td>1.316529e+18</td>\n",
       "      <td>#Trump: As a student I used to hear for years,...</td>\n",
       "      <td>2.0</td>\n",
       "      <td>1.0</td>\n",
       "      <td>Twitter Web App</td>\n",
       "      <td>8.436472e+06</td>\n",
       "      <td>snarke</td>\n",
       "      <td>snarke</td>\n",
       "      <td>Will mock for food! Freelance writer, blogger,...</td>\n",
       "      <td>...</td>\n",
       "      <td>Portland</td>\n",
       "      <td>45.520247</td>\n",
       "      <td>-122.674195</td>\n",
       "      <td>Portland</td>\n",
       "      <td>United States of America</td>\n",
       "      <td>North America</td>\n",
       "      <td>Oregon</td>\n",
       "      <td>OR</td>\n",
       "      <td>2020-10-21 00:00:00.746433060</td>\n",
       "      <td>Trump</td>\n",
       "    </tr>\n",
       "    <tr>\n",
       "      <th>3</th>\n",
       "      <td>2020-10-15 00:00:02</td>\n",
       "      <td>1.316529e+18</td>\n",
       "      <td>2 hours since last tweet from #Trump! Maybe he...</td>\n",
       "      <td>0.0</td>\n",
       "      <td>0.0</td>\n",
       "      <td>Trumpytweeter</td>\n",
       "      <td>8.283556e+17</td>\n",
       "      <td>Trumpytweeter</td>\n",
       "      <td>trumpytweeter</td>\n",
       "      <td>If he doesn't tweet for some time, should we b...</td>\n",
       "      <td>...</td>\n",
       "      <td>NaN</td>\n",
       "      <td>NaN</td>\n",
       "      <td>NaN</td>\n",
       "      <td>NaN</td>\n",
       "      <td>NaN</td>\n",
       "      <td>NaN</td>\n",
       "      <td>NaN</td>\n",
       "      <td>NaN</td>\n",
       "      <td>2020-10-21 00:00:01.119649591</td>\n",
       "      <td>Trump</td>\n",
       "    </tr>\n",
       "    <tr>\n",
       "      <th>...</th>\n",
       "      <td>...</td>\n",
       "      <td>...</td>\n",
       "      <td>...</td>\n",
       "      <td>...</td>\n",
       "      <td>...</td>\n",
       "      <td>...</td>\n",
       "      <td>...</td>\n",
       "      <td>...</td>\n",
       "      <td>...</td>\n",
       "      <td>...</td>\n",
       "      <td>...</td>\n",
       "      <td>...</td>\n",
       "      <td>...</td>\n",
       "      <td>...</td>\n",
       "      <td>...</td>\n",
       "      <td>...</td>\n",
       "      <td>...</td>\n",
       "      <td>...</td>\n",
       "      <td>...</td>\n",
       "      <td>...</td>\n",
       "      <td>...</td>\n",
       "    </tr>\n",
       "    <tr>\n",
       "      <th>970917</th>\n",
       "      <td>2020-11-08 23:59:54</td>\n",
       "      <td>1.325589e+18</td>\n",
       "      <td>@sammelbis1998 @iheartmindy @bnorthg First, yo...</td>\n",
       "      <td>0.0</td>\n",
       "      <td>0.0</td>\n",
       "      <td>Twitter for iPad</td>\n",
       "      <td>7.687811e+08</td>\n",
       "      <td>Debra</td>\n",
       "      <td>drdeblk</td>\n",
       "      <td>MD. Autism specialist. Film lover. #DumpTrump2020</td>\n",
       "      <td>...</td>\n",
       "      <td>NaN</td>\n",
       "      <td>NaN</td>\n",
       "      <td>NaN</td>\n",
       "      <td>NaN</td>\n",
       "      <td>NaN</td>\n",
       "      <td>NaN</td>\n",
       "      <td>NaN</td>\n",
       "      <td>NaN</td>\n",
       "      <td>2020-11-09 17:47:56.012674</td>\n",
       "      <td>Trump</td>\n",
       "    </tr>\n",
       "    <tr>\n",
       "      <th>970918</th>\n",
       "      <td>2020-11-08 23:59:55</td>\n",
       "      <td>1.325589e+18</td>\n",
       "      <td>OK just had to do it !\\n#Trump #CatapultTrump ...</td>\n",
       "      <td>105.0</td>\n",
       "      <td>28.0</td>\n",
       "      <td>Twitter Web App</td>\n",
       "      <td>4.519791e+08</td>\n",
       "      <td>Dunken K Bliths</td>\n",
       "      <td>DunkenKBliths</td>\n",
       "      <td>\"Tesla owner's will be followed back\"\\n\\n#Mach...</td>\n",
       "      <td>...</td>\n",
       "      <td>✔ Official Twitter Account</td>\n",
       "      <td>NaN</td>\n",
       "      <td>NaN</td>\n",
       "      <td>NaN</td>\n",
       "      <td>NaN</td>\n",
       "      <td>NaN</td>\n",
       "      <td>NaN</td>\n",
       "      <td>NaN</td>\n",
       "      <td>2020-11-09 17:47:55.807500</td>\n",
       "      <td>Trump</td>\n",
       "    </tr>\n",
       "    <tr>\n",
       "      <th>922910</th>\n",
       "      <td>2020-11-08 23:59:56</td>\n",
       "      <td>1.325589e+18</td>\n",
       "      <td>@nbcbayarea Who doesn’t like dogs or any kind ...</td>\n",
       "      <td>1.0</td>\n",
       "      <td>1.0</td>\n",
       "      <td>Twitter for iPhone</td>\n",
       "      <td>1.182639e+08</td>\n",
       "      <td>Dianna Maria</td>\n",
       "      <td>DiannaMaria</td>\n",
       "      <td>~ I am a very proud mom of a sweet, kind and c...</td>\n",
       "      <td>...</td>\n",
       "      <td>United States</td>\n",
       "      <td>39.783730</td>\n",
       "      <td>-100.445882</td>\n",
       "      <td>NaN</td>\n",
       "      <td>United States</td>\n",
       "      <td>North America</td>\n",
       "      <td>NaN</td>\n",
       "      <td>NaN</td>\n",
       "      <td>2020-11-09 17:46:06.939099</td>\n",
       "      <td>Trump</td>\n",
       "    </tr>\n",
       "    <tr>\n",
       "      <th>737089</th>\n",
       "      <td>2020-11-08 23:59:57</td>\n",
       "      <td>1.325589e+18</td>\n",
       "      <td>#JoeBiden 😂😂😂😂😂😂😂😂😂😂😂😂😂😂😂😂😂😂😂😂 https://t.co/Ym...</td>\n",
       "      <td>0.0</td>\n",
       "      <td>0.0</td>\n",
       "      <td>Twitter for iPhone</td>\n",
       "      <td>1.148479e+08</td>\n",
       "      <td>Nataša</td>\n",
       "      <td>PewPeeew</td>\n",
       "      <td>My brain consists of coping mechanisms and vin...</td>\n",
       "      <td>...</td>\n",
       "      <td>Deutschland</td>\n",
       "      <td>51.083420</td>\n",
       "      <td>10.423447</td>\n",
       "      <td>NaN</td>\n",
       "      <td>Germany</td>\n",
       "      <td>Europe</td>\n",
       "      <td>NaN</td>\n",
       "      <td>NaN</td>\n",
       "      <td>2020-11-09 18:26:04.550843</td>\n",
       "      <td>Biden</td>\n",
       "    </tr>\n",
       "    <tr>\n",
       "      <th>776885</th>\n",
       "      <td>2020-11-08 23:59:58</td>\n",
       "      <td>1.325589e+18</td>\n",
       "      <td>Ik moet zeggen dat ik #Biden \"the lesser of tw...</td>\n",
       "      <td>0.0</td>\n",
       "      <td>0.0</td>\n",
       "      <td>Twitter for Android</td>\n",
       "      <td>5.863863e+08</td>\n",
       "      <td>Job</td>\n",
       "      <td>_JobO__</td>\n",
       "      <td>-voeg hier uw interessante bio toe-</td>\n",
       "      <td>...</td>\n",
       "      <td>NaN</td>\n",
       "      <td>NaN</td>\n",
       "      <td>NaN</td>\n",
       "      <td>NaN</td>\n",
       "      <td>NaN</td>\n",
       "      <td>NaN</td>\n",
       "      <td>NaN</td>\n",
       "      <td>NaN</td>\n",
       "      <td>2020-11-09 18:32:45.747707</td>\n",
       "      <td>Biden</td>\n",
       "    </tr>\n",
       "  </tbody>\n",
       "</table>\n",
       "<p>1747805 rows × 22 columns</p>\n",
       "</div>"
      ],
      "text/plain": [
       "                created_at      tweet_id  \\\n",
       "0      2020-10-15 00:00:01  1.316529e+18   \n",
       "0      2020-10-15 00:00:01  1.316529e+18   \n",
       "1      2020-10-15 00:00:01  1.316529e+18   \n",
       "2      2020-10-15 00:00:02  1.316529e+18   \n",
       "3      2020-10-15 00:00:02  1.316529e+18   \n",
       "...                    ...           ...   \n",
       "970917 2020-11-08 23:59:54  1.325589e+18   \n",
       "970918 2020-11-08 23:59:55  1.325589e+18   \n",
       "922910 2020-11-08 23:59:56  1.325589e+18   \n",
       "737089 2020-11-08 23:59:57  1.325589e+18   \n",
       "776885 2020-11-08 23:59:58  1.325589e+18   \n",
       "\n",
       "                                                    tweet  likes  \\\n",
       "0       #Elecciones2020 | En #Florida: #JoeBiden dice ...    0.0   \n",
       "0       #Elecciones2020 | En #Florida: #JoeBiden dice ...    0.0   \n",
       "1       Usa 2020, Trump contro Facebook e Twitter: cop...   26.0   \n",
       "2       #Trump: As a student I used to hear for years,...    2.0   \n",
       "3       2 hours since last tweet from #Trump! Maybe he...    0.0   \n",
       "...                                                   ...    ...   \n",
       "970917  @sammelbis1998 @iheartmindy @bnorthg First, yo...    0.0   \n",
       "970918  OK just had to do it !\\n#Trump #CatapultTrump ...  105.0   \n",
       "922910  @nbcbayarea Who doesn’t like dogs or any kind ...    1.0   \n",
       "737089  #JoeBiden 😂😂😂😂😂😂😂😂😂😂😂😂😂😂😂😂😂😂😂😂 https://t.co/Ym...    0.0   \n",
       "776885  Ik moet zeggen dat ik #Biden \"the lesser of tw...    0.0   \n",
       "\n",
       "        retweet_count               source       user_id           user_name  \\\n",
       "0                 0.0            TweetDeck  3.606665e+08  El Sol Latino News   \n",
       "0                 0.0            TweetDeck  3.606665e+08  El Sol Latino News   \n",
       "1                 9.0     Social Mediaset   3.316176e+08             Tgcom24   \n",
       "2                 1.0      Twitter Web App  8.436472e+06              snarke   \n",
       "3                 0.0        Trumpytweeter  8.283556e+17       Trumpytweeter   \n",
       "...               ...                  ...           ...                 ...   \n",
       "970917            0.0     Twitter for iPad  7.687811e+08               Debra   \n",
       "970918           28.0      Twitter Web App  4.519791e+08     Dunken K Bliths   \n",
       "922910            1.0   Twitter for iPhone  1.182639e+08        Dianna Maria   \n",
       "737089            0.0   Twitter for iPhone  1.148479e+08              Nataša   \n",
       "776885            0.0  Twitter for Android  5.863863e+08                 Job   \n",
       "\n",
       "       user_screen_name                                   user_description  \\\n",
       "0       elsollatinonews  🌐 Noticias de interés para latinos de la costa...   \n",
       "0       elsollatinonews  🌐 Noticias de interés para latinos de la costa...   \n",
       "1       MediasetTgcom24  Profilo ufficiale di Tgcom24: tutte le notizie...   \n",
       "2                snarke  Will mock for food! Freelance writer, blogger,...   \n",
       "3         trumpytweeter  If he doesn't tweet for some time, should we b...   \n",
       "...                 ...                                                ...   \n",
       "970917          drdeblk  MD. Autism specialist. Film lover. #DumpTrump2020   \n",
       "970918    DunkenKBliths  \"Tesla owner's will be followed back\"\\n\\n#Mach...   \n",
       "922910      DiannaMaria  ~ I am a very proud mom of a sweet, kind and c...   \n",
       "737089         PewPeeew  My brain consists of coping mechanisms and vin...   \n",
       "776885          _JobO__                -voeg hier uw interessante bio toe-   \n",
       "\n",
       "        ...                 user_location        lat        long      city  \\\n",
       "0       ...  Philadelphia, PA / Miami, FL  25.774270  -80.193660       NaN   \n",
       "0       ...  Philadelphia, PA / Miami, FL  25.774270  -80.193660       NaN   \n",
       "1       ...                           NaN        NaN         NaN       NaN   \n",
       "2       ...                      Portland  45.520247 -122.674195  Portland   \n",
       "3       ...                           NaN        NaN         NaN       NaN   \n",
       "...     ...                           ...        ...         ...       ...   \n",
       "970917  ...                           NaN        NaN         NaN       NaN   \n",
       "970918  ...    ✔ Official Twitter Account        NaN         NaN       NaN   \n",
       "922910  ...                 United States  39.783730 -100.445882       NaN   \n",
       "737089  ...                   Deutschland  51.083420   10.423447       NaN   \n",
       "776885  ...                           NaN        NaN         NaN       NaN   \n",
       "\n",
       "                         country      continent    state state_code  \\\n",
       "0       United States of America  North America  Florida         FL   \n",
       "0       United States of America  North America  Florida         FL   \n",
       "1                            NaN            NaN      NaN        NaN   \n",
       "2       United States of America  North America   Oregon         OR   \n",
       "3                            NaN            NaN      NaN        NaN   \n",
       "...                          ...            ...      ...        ...   \n",
       "970917                       NaN            NaN      NaN        NaN   \n",
       "970918                       NaN            NaN      NaN        NaN   \n",
       "922910             United States  North America      NaN        NaN   \n",
       "737089                   Germany         Europe      NaN        NaN   \n",
       "776885                       NaN            NaN      NaN        NaN   \n",
       "\n",
       "                         collected_at hashtag  \n",
       "0                 2020-10-21 00:00:00   Trump  \n",
       "0                 2020-10-21 00:00:00   Biden  \n",
       "1       2020-10-21 00:00:00.373216530   Trump  \n",
       "2       2020-10-21 00:00:00.746433060   Trump  \n",
       "3       2020-10-21 00:00:01.119649591   Trump  \n",
       "...                               ...     ...  \n",
       "970917     2020-11-09 17:47:56.012674   Trump  \n",
       "970918     2020-11-09 17:47:55.807500   Trump  \n",
       "922910     2020-11-09 17:46:06.939099   Trump  \n",
       "737089     2020-11-09 18:26:04.550843   Biden  \n",
       "776885     2020-11-09 18:32:45.747707   Biden  \n",
       "\n",
       "[1747805 rows x 22 columns]"
      ]
     },
     "execution_count": 10,
     "metadata": {},
     "output_type": "execute_result"
    }
   ],
   "source": [
    "tweet_df.sort_values(by = 'created_at')"
   ]
  },
  {
   "cell_type": "code",
   "execution_count": 25,
   "metadata": {},
   "outputs": [
    {
     "data": {
      "text/plain": [
       "created_at              datetime64[ns]\n",
       "tweet_id                       float64\n",
       "tweet                           object\n",
       "likes                          float64\n",
       "retweet_count                  float64\n",
       "source                          object\n",
       "user_id                        float64\n",
       "user_name                       object\n",
       "user_screen_name                object\n",
       "user_description                object\n",
       "user_join_date                  object\n",
       "user_followers_count           float64\n",
       "user_location                   object\n",
       "lat                            float64\n",
       "long                           float64\n",
       "city                            object\n",
       "country                         object\n",
       "continent                       object\n",
       "state                           object\n",
       "state_code                      object\n",
       "collected_at                    object\n",
       "hashtag                         object\n",
       "dtype: object"
      ]
     },
     "execution_count": 25,
     "metadata": {},
     "output_type": "execute_result"
    }
   ],
   "source": [
    "tweet_df.dtypes"
   ]
  },
  {
   "cell_type": "code",
   "execution_count": 11,
   "metadata": {},
   "outputs": [],
   "source": [
    "usa = {\"United States of America\" : \"United States\"}\n",
    "tweet_df['country'].replace(usa, inplace=True)\n"
   ]
  },
  {
   "cell_type": "code",
   "execution_count": 12,
   "metadata": {},
   "outputs": [],
   "source": [
    "clean_df = tweet_df.dropna(how='any')"
   ]
  },
  {
   "cell_type": "code",
   "execution_count": 13,
   "metadata": {},
   "outputs": [],
   "source": [
    "clean_df = clean_df.loc[clean_df['country']== 'United States']"
   ]
  },
  {
   "cell_type": "code",
   "execution_count": 14,
   "metadata": {},
   "outputs": [
    {
     "name": "stdout",
     "output_type": "stream",
     "text": [
      "Count of duplicates: 21056\n"
     ]
    }
   ],
   "source": [
    "print(\"Count of duplicates: {}\".format(clean_df.duplicated(subset=[\"tweet\"]).sum()))"
   ]
  },
  {
   "cell_type": "code",
   "execution_count": 15,
   "metadata": {},
   "outputs": [
    {
     "name": "stdout",
     "output_type": "stream",
     "text": [
      "Original size of df: 182384\n",
      "No duplicates size of df : 141640\n"
     ]
    }
   ],
   "source": [
    "print(\"Original size of df: {}\".format(len(clean_df)))\n",
    "clean_df.drop_duplicates(subset=[\"tweet\"], inplace=True, keep=False)\n",
    "print(\"No duplicates size of df : {}\".format(len(clean_df)))"
   ]
  },
  {
   "cell_type": "code",
   "execution_count": 16,
   "metadata": {},
   "outputs": [],
   "source": [
    "clean_df.reset_index(inplace=True)"
   ]
  },
  {
   "cell_type": "code",
   "execution_count": 17,
   "metadata": {},
   "outputs": [],
   "source": [
    "clean_df['Date'] = clean_df['created_at'].dt.strftime('%m/%d/%Y')\n",
    "clean_df['Time'] = clean_df['created_at'].dt.strftime('%H:%M:%S')"
   ]
  },
  {
   "cell_type": "code",
   "execution_count": 18,
   "metadata": {},
   "outputs": [],
   "source": [
    "clean_df = clean_df.rename(columns = {'index': 'id'}, inplace = False)\n"
   ]
  },
  {
   "cell_type": "code",
   "execution_count": 19,
   "metadata": {},
   "outputs": [],
   "source": [
    "clean_df = clean_df[['id', 'tweet', 'likes', 'retweet_count', 'source', 'lat', 'long', 'city','state_code','hashtag', 'Date', 'Time']]"
   ]
  },
  {
   "cell_type": "code",
   "execution_count": 20,
   "metadata": {},
   "outputs": [],
   "source": [
    "clean_df = clean_df[['tweet', 'likes', 'retweet_count', 'source', 'lat', 'long', 'city','state_code','hashtag', 'Date', 'Time']]"
   ]
  },
  {
   "cell_type": "code",
   "execution_count": 21,
   "metadata": {},
   "outputs": [],
   "source": [
    "clean_df.reset_index(inplace=True)"
   ]
  },
  {
   "cell_type": "code",
   "execution_count": 22,
   "metadata": {},
   "outputs": [
    {
     "data": {
      "text/html": [
       "<div>\n",
       "<style scoped>\n",
       "    .dataframe tbody tr th:only-of-type {\n",
       "        vertical-align: middle;\n",
       "    }\n",
       "\n",
       "    .dataframe tbody tr th {\n",
       "        vertical-align: top;\n",
       "    }\n",
       "\n",
       "    .dataframe thead th {\n",
       "        text-align: right;\n",
       "    }\n",
       "</style>\n",
       "<table border=\"1\" class=\"dataframe\">\n",
       "  <thead>\n",
       "    <tr style=\"text-align: right;\">\n",
       "      <th></th>\n",
       "      <th>id</th>\n",
       "      <th>tweet</th>\n",
       "      <th>likes</th>\n",
       "      <th>retweet_count</th>\n",
       "      <th>source</th>\n",
       "      <th>lat</th>\n",
       "      <th>long</th>\n",
       "      <th>city</th>\n",
       "      <th>state_code</th>\n",
       "      <th>hashtag</th>\n",
       "      <th>Date</th>\n",
       "      <th>Time</th>\n",
       "    </tr>\n",
       "  </thead>\n",
       "  <tbody>\n",
       "    <tr>\n",
       "      <th>0</th>\n",
       "      <td>0</td>\n",
       "      <td>#Trump: As a student I used to hear for years,...</td>\n",
       "      <td>2.0</td>\n",
       "      <td>1.0</td>\n",
       "      <td>Twitter Web App</td>\n",
       "      <td>45.520247</td>\n",
       "      <td>-122.674195</td>\n",
       "      <td>Portland</td>\n",
       "      <td>OR</td>\n",
       "      <td>Trump</td>\n",
       "      <td>10/15/2020</td>\n",
       "      <td>00:00:02</td>\n",
       "    </tr>\n",
       "    <tr>\n",
       "      <th>1</th>\n",
       "      <td>1</td>\n",
       "      <td>You get a tie! And you get a tie! #Trump ‘s ra...</td>\n",
       "      <td>4.0</td>\n",
       "      <td>3.0</td>\n",
       "      <td>Twitter for iPhone</td>\n",
       "      <td>38.894992</td>\n",
       "      <td>-77.036558</td>\n",
       "      <td>Washington</td>\n",
       "      <td>DC</td>\n",
       "      <td>Trump</td>\n",
       "      <td>10/15/2020</td>\n",
       "      <td>00:00:08</td>\n",
       "    </tr>\n",
       "    <tr>\n",
       "      <th>2</th>\n",
       "      <td>2</td>\n",
       "      <td>#Trump #PresidentTrump #Trump2020LandslideVict...</td>\n",
       "      <td>3.0</td>\n",
       "      <td>5.0</td>\n",
       "      <td>Twitter for Android</td>\n",
       "      <td>32.717421</td>\n",
       "      <td>-117.162771</td>\n",
       "      <td>San Diego</td>\n",
       "      <td>CA</td>\n",
       "      <td>Trump</td>\n",
       "      <td>10/15/2020</td>\n",
       "      <td>00:00:26</td>\n",
       "    </tr>\n",
       "    <tr>\n",
       "      <th>3</th>\n",
       "      <td>3</td>\n",
       "      <td>#Trump: Nobody likes to tell you this, but som...</td>\n",
       "      <td>1.0</td>\n",
       "      <td>1.0</td>\n",
       "      <td>Twitter Web App</td>\n",
       "      <td>45.520247</td>\n",
       "      <td>-122.674195</td>\n",
       "      <td>Portland</td>\n",
       "      <td>OR</td>\n",
       "      <td>Trump</td>\n",
       "      <td>10/15/2020</td>\n",
       "      <td>00:01:14</td>\n",
       "    </tr>\n",
       "    <tr>\n",
       "      <th>4</th>\n",
       "      <td>4</td>\n",
       "      <td>@karatblood @KazePlays_JC Grab @realDonaldTrum...</td>\n",
       "      <td>2.0</td>\n",
       "      <td>0.0</td>\n",
       "      <td>Twitter for iPhone</td>\n",
       "      <td>41.882823</td>\n",
       "      <td>-87.686307</td>\n",
       "      <td>Chicago</td>\n",
       "      <td>IL</td>\n",
       "      <td>Trump</td>\n",
       "      <td>10/15/2020</td>\n",
       "      <td>00:01:30</td>\n",
       "    </tr>\n",
       "  </tbody>\n",
       "</table>\n",
       "</div>"
      ],
      "text/plain": [
       "   id                                              tweet  likes  \\\n",
       "0   0  #Trump: As a student I used to hear for years,...    2.0   \n",
       "1   1  You get a tie! And you get a tie! #Trump ‘s ra...    4.0   \n",
       "2   2  #Trump #PresidentTrump #Trump2020LandslideVict...    3.0   \n",
       "3   3  #Trump: Nobody likes to tell you this, but som...    1.0   \n",
       "4   4  @karatblood @KazePlays_JC Grab @realDonaldTrum...    2.0   \n",
       "\n",
       "   retweet_count               source        lat        long        city  \\\n",
       "0            1.0      Twitter Web App  45.520247 -122.674195    Portland   \n",
       "1            3.0   Twitter for iPhone  38.894992  -77.036558  Washington   \n",
       "2            5.0  Twitter for Android  32.717421 -117.162771   San Diego   \n",
       "3            1.0      Twitter Web App  45.520247 -122.674195    Portland   \n",
       "4            0.0   Twitter for iPhone  41.882823  -87.686307     Chicago   \n",
       "\n",
       "  state_code hashtag        Date      Time  \n",
       "0         OR   Trump  10/15/2020  00:00:02  \n",
       "1         DC   Trump  10/15/2020  00:00:08  \n",
       "2         CA   Trump  10/15/2020  00:00:26  \n",
       "3         OR   Trump  10/15/2020  00:01:14  \n",
       "4         IL   Trump  10/15/2020  00:01:30  "
      ]
     },
     "execution_count": 22,
     "metadata": {},
     "output_type": "execute_result"
    }
   ],
   "source": [
    "clean_df = clean_df.rename(columns = {'index': 'id'}, inplace = False)\n",
    "clean_df.head()"
   ]
  },
  {
   "cell_type": "code",
   "execution_count": 23,
   "metadata": {},
   "outputs": [
    {
     "data": {
      "text/plain": [
       "2047      1\n",
       "34106     1\n",
       "136552    1\n",
       "44351     1\n",
       "42302     1\n",
       "         ..\n",
       "125672    1\n",
       "123625    1\n",
       "129770    1\n",
       "127723    1\n",
       "0         1\n",
       "Name: id, Length: 141640, dtype: int64"
      ]
     },
     "execution_count": 23,
     "metadata": {},
     "output_type": "execute_result"
    }
   ],
   "source": [
    "clean_df['id'].value_counts()"
   ]
  },
  {
   "cell_type": "code",
   "execution_count": null,
   "metadata": {},
   "outputs": [],
   "source": []
  },
  {
   "cell_type": "code",
   "execution_count": 24,
   "metadata": {
    "scrolled": true
   },
   "outputs": [
    {
     "data": {
      "text/plain": [
       "New York              27657\n",
       "Los Angeles           12777\n",
       "Washington            11783\n",
       "Chicago                5819\n",
       "San Francisco          4144\n",
       "                      ...  \n",
       "Brockton                  1\n",
       "El Monte                  1\n",
       "Mendham Township          1\n",
       "Coolbaugh Township        1\n",
       "Boulder City              1\n",
       "Name: city, Length: 528, dtype: int64"
      ]
     },
     "execution_count": 24,
     "metadata": {},
     "output_type": "execute_result"
    }
   ],
   "source": [
    "clean_df['city'].value_counts()"
   ]
  },
  {
   "cell_type": "code",
   "execution_count": 33,
   "metadata": {},
   "outputs": [
    {
     "data": {
      "text/html": [
       "<div>\n",
       "<style scoped>\n",
       "    .dataframe tbody tr th:only-of-type {\n",
       "        vertical-align: middle;\n",
       "    }\n",
       "\n",
       "    .dataframe tbody tr th {\n",
       "        vertical-align: top;\n",
       "    }\n",
       "\n",
       "    .dataframe thead th {\n",
       "        text-align: right;\n",
       "    }\n",
       "</style>\n",
       "<table border=\"1\" class=\"dataframe\">\n",
       "  <thead>\n",
       "    <tr style=\"text-align: right;\">\n",
       "      <th></th>\n",
       "      <th>id</th>\n",
       "      <th>likes</th>\n",
       "      <th>retweet_count</th>\n",
       "      <th>lat</th>\n",
       "      <th>long</th>\n",
       "    </tr>\n",
       "    <tr>\n",
       "      <th>city</th>\n",
       "      <th></th>\n",
       "      <th></th>\n",
       "      <th></th>\n",
       "      <th></th>\n",
       "      <th></th>\n",
       "    </tr>\n",
       "  </thead>\n",
       "  <tbody>\n",
       "    <tr>\n",
       "      <th>Abilene</th>\n",
       "      <td>62526.375000</td>\n",
       "      <td>3.500000</td>\n",
       "      <td>2.875000</td>\n",
       "      <td>32.446450</td>\n",
       "      <td>-99.747591</td>\n",
       "    </tr>\n",
       "    <tr>\n",
       "      <th>Abington Township</th>\n",
       "      <td>21202.000000</td>\n",
       "      <td>0.000000</td>\n",
       "      <td>0.000000</td>\n",
       "      <td>40.102333</td>\n",
       "      <td>-75.152119</td>\n",
       "    </tr>\n",
       "    <tr>\n",
       "      <th>Aiea</th>\n",
       "      <td>98312.500000</td>\n",
       "      <td>0.000000</td>\n",
       "      <td>0.000000</td>\n",
       "      <td>21.358756</td>\n",
       "      <td>-157.945498</td>\n",
       "    </tr>\n",
       "    <tr>\n",
       "      <th>Akron</th>\n",
       "      <td>75358.510204</td>\n",
       "      <td>0.952381</td>\n",
       "      <td>0.210884</td>\n",
       "      <td>41.085088</td>\n",
       "      <td>-81.517803</td>\n",
       "    </tr>\n",
       "    <tr>\n",
       "      <th>Albany</th>\n",
       "      <td>74477.518868</td>\n",
       "      <td>1.509434</td>\n",
       "      <td>0.273585</td>\n",
       "      <td>42.651167</td>\n",
       "      <td>-73.754968</td>\n",
       "    </tr>\n",
       "    <tr>\n",
       "      <th>...</th>\n",
       "      <td>...</td>\n",
       "      <td>...</td>\n",
       "      <td>...</td>\n",
       "      <td>...</td>\n",
       "      <td>...</td>\n",
       "    </tr>\n",
       "    <tr>\n",
       "      <th>Yakima</th>\n",
       "      <td>87483.000000</td>\n",
       "      <td>0.222222</td>\n",
       "      <td>0.000000</td>\n",
       "      <td>46.601557</td>\n",
       "      <td>-120.510842</td>\n",
       "    </tr>\n",
       "    <tr>\n",
       "      <th>Yonkers</th>\n",
       "      <td>82835.505495</td>\n",
       "      <td>2.351648</td>\n",
       "      <td>0.472527</td>\n",
       "      <td>40.931210</td>\n",
       "      <td>-73.898747</td>\n",
       "    </tr>\n",
       "    <tr>\n",
       "      <th>York</th>\n",
       "      <td>38788.000000</td>\n",
       "      <td>0.250000</td>\n",
       "      <td>0.000000</td>\n",
       "      <td>39.962398</td>\n",
       "      <td>-76.727392</td>\n",
       "    </tr>\n",
       "    <tr>\n",
       "      <th>Youngstown</th>\n",
       "      <td>60912.227273</td>\n",
       "      <td>2.627273</td>\n",
       "      <td>0.800000</td>\n",
       "      <td>41.103579</td>\n",
       "      <td>-80.652016</td>\n",
       "    </tr>\n",
       "    <tr>\n",
       "      <th>Yuma</th>\n",
       "      <td>70038.653846</td>\n",
       "      <td>1.769231</td>\n",
       "      <td>0.500000</td>\n",
       "      <td>32.692659</td>\n",
       "      <td>-114.627616</td>\n",
       "    </tr>\n",
       "  </tbody>\n",
       "</table>\n",
       "<p>528 rows × 5 columns</p>\n",
       "</div>"
      ],
      "text/plain": [
       "                             id     likes  retweet_count        lat  \\\n",
       "city                                                                  \n",
       "Abilene            62526.375000  3.500000       2.875000  32.446450   \n",
       "Abington Township  21202.000000  0.000000       0.000000  40.102333   \n",
       "Aiea               98312.500000  0.000000       0.000000  21.358756   \n",
       "Akron              75358.510204  0.952381       0.210884  41.085088   \n",
       "Albany             74477.518868  1.509434       0.273585  42.651167   \n",
       "...                         ...       ...            ...        ...   \n",
       "Yakima             87483.000000  0.222222       0.000000  46.601557   \n",
       "Yonkers            82835.505495  2.351648       0.472527  40.931210   \n",
       "York               38788.000000  0.250000       0.000000  39.962398   \n",
       "Youngstown         60912.227273  2.627273       0.800000  41.103579   \n",
       "Yuma               70038.653846  1.769231       0.500000  32.692659   \n",
       "\n",
       "                         long  \n",
       "city                           \n",
       "Abilene            -99.747591  \n",
       "Abington Township  -75.152119  \n",
       "Aiea              -157.945498  \n",
       "Akron              -81.517803  \n",
       "Albany             -73.754968  \n",
       "...                       ...  \n",
       "Yakima            -120.510842  \n",
       "Yonkers            -73.898747  \n",
       "York               -76.727392  \n",
       "Youngstown         -80.652016  \n",
       "Yuma              -114.627616  \n",
       "\n",
       "[528 rows x 5 columns]"
      ]
     },
     "execution_count": 33,
     "metadata": {},
     "output_type": "execute_result"
    }
   ],
   "source": [
    "clean_df.groupby(\"city\").mean()\n",
    "\n"
   ]
  },
  {
   "cell_type": "code",
   "execution_count": null,
   "metadata": {},
   "outputs": [],
   "source": []
  },
  {
   "cell_type": "code",
   "execution_count": null,
   "metadata": {},
   "outputs": [],
   "source": []
  },
  {
   "cell_type": "code",
   "execution_count": null,
   "metadata": {},
   "outputs": [],
   "source": []
  },
  {
   "cell_type": "code",
   "execution_count": null,
   "metadata": {},
   "outputs": [],
   "source": []
  },
  {
   "cell_type": "code",
   "execution_count": 23,
   "metadata": {},
   "outputs": [],
   "source": [
    "# clean_df['lat_long'] = list(zip(clean_df.lat, clean_df.long))"
   ]
  },
  {
   "cell_type": "code",
   "execution_count": 24,
   "metadata": {},
   "outputs": [],
   "source": [
    "#cleaning the tweets\n",
    "def clean_tweets(tweet):\n",
    " \n",
    "    tweet = re.sub(r':', '', str(tweet))\n",
    "    tweet = re.sub(r'‚Ä¶', '', str(tweet))\n",
    "    tweet = re.sub('@[A-Za-z0–9]+', '', str(tweet))               \n",
    "    tweet = re.sub('#', '', str(tweet)) # Removing '#' hash tag\n",
    "    tweet = re.sub('https?:\\/\\/\\S+', '', str(tweet)) # Removing hyperlink\n",
    "    #replace consecutive non-ASCII characters with a space\n",
    "    tweet = re.sub(r'[^\\x00-\\x7F]+',' ',str(tweet))\n",
    "    tweet = str(tweet).lower()\n",
    "    tweet = re.sub('\\[.*?\\]', '', tweet)\n",
    "    tweet = re.sub('https?://\\S+|www\\.\\S+', '', tweet)\n",
    "    tweet = re.sub('<.*?>+', '', tweet)\n",
    "    tweet = re.sub('\\n', '', tweet)\n",
    "    tweet = re.sub('\\w*\\d\\w*', '', tweet)\n",
    "    tweet = re.sub(r'#','',tweet)\n",
    "    tweet = re.sub(r'RT[\\s]+','',tweet)\n",
    "    tweet = re.sub(r'[^\\w]', ' ', tweet)\n",
    "    tweet = re.sub('https', '', tweet)\n",
    "    tweet = re.sub('https ', '', tweet)\n",
    "    tweet = re.sub('co', '', tweet)\n",
    "\n",
    "    return tweet"
   ]
  },
  {
   "cell_type": "code",
   "execution_count": 25,
   "metadata": {},
   "outputs": [],
   "source": [
    "def getSubjectivity(tweet):\n",
    "    try:\n",
    "        return TextBlob(tweet).sentiment.subjectivity\n",
    "    except:\n",
    "        return None\n",
    "\n",
    "\n",
    "# Create a function to get the polarity\n",
    "def getPolarity(tweet):\n",
    "    try:\n",
    "        return  TextBlob(tweet).sentiment.polarity\n",
    "    except:\n",
    "        return None\n",
    "\n",
    "def sentiment_calc(tweet):\n",
    "    try:\n",
    "        return TextBlob(tweet).sentiment\n",
    "    except:\n",
    "        return None\n",
    "\n",
    "# country='United States'\n",
    "clean_df['edited_tweet'] = clean_df['tweet'].apply(clean_tweets)\n",
    "clean_df['subjectivity'] = clean_df['edited_tweet'].apply(getSubjectivity)\n",
    "clean_df['polarity'] = clean_df['edited_tweet'].apply(getPolarity)\n",
    "clean_df['sentiment'] = clean_df['edited_tweet'].apply(sentiment_calc)\n",
    "\n",
    "def getAnalysis(score):\n",
    "    if score < 0:\n",
    "      return 'Negative'\n",
    "    elif score == 0:\n",
    "      return 'Neutral'\n",
    "    else:\n",
    "      return 'Positive'\n",
    "\n",
    "clean_df['analysis'] = clean_df['polarity'].apply(getAnalysis)"
   ]
  },
  {
   "cell_type": "code",
   "execution_count": 26,
   "metadata": {},
   "outputs": [],
   "source": [
    "# biden\n",
    "biden=clean_df[clean_df['hashtag']=='Biden']\n",
    "trump=clean_df[clean_df['hashtag']=='Trump']"
   ]
  },
  {
   "cell_type": "code",
   "execution_count": 27,
   "metadata": {},
   "outputs": [
    {
     "data": {
      "text/plain": [
       "Text(0.5, 1.0, 'Sentiment Analyisis Biden US')"
      ]
     },
     "execution_count": 27,
     "metadata": {},
     "output_type": "execute_result"
    },
    {
     "data": {
      "image/png": "[encoded data removed]",
      "text/plain": [
       "<Figure size 432x288 with 1 Axes>"
      ]
     },
     "metadata": {
      "needs_background": "light"
     },
     "output_type": "display_data"
    }
   ],
   "source": [
    "biden.groupby('analysis')['analysis'].count().plot.bar()\n",
    "plt.title('Sentiment Analyisis Biden US')"
   ]
  },
  {
   "cell_type": "code",
   "execution_count": 28,
   "metadata": {},
   "outputs": [
    {
     "data": {
      "text/plain": [
       "Text(0.5, 1.0, 'Sentiment Analyisis Biden US')"
      ]
     },
     "execution_count": 28,
     "metadata": {},
     "output_type": "execute_result"
    },
    {
     "data": {
      "image/png": "[encoded data removed]",
      "text/plain": [
       "<Figure size 432x288 with 1 Axes>"
      ]
     },
     "metadata": {
      "needs_background": "light"
     },
     "output_type": "display_data"
    }
   ],
   "source": [
    "trump.groupby('analysis')['analysis'].count().plot.bar()\n",
    "plt.title('Sentiment Analyisis Biden US')"
   ]
  },
  {
   "cell_type": "code",
   "execution_count": 29,
   "metadata": {},
   "outputs": [
    {
     "name": "stdout",
     "output_type": "stream",
     "text": [
      "Neutral     29940\n",
      "Positive    26064\n",
      "Negative     9762\n",
      "Name: analysis, dtype: int64\n"
     ]
    },
    {
     "data": {
      "image/png": "[encoded data removed]",
      "text/plain": [
       "<Figure size 432x288 with 1 Axes>"
      ]
     },
     "metadata": {},
     "output_type": "display_data"
    }
   ],
   "source": [
    "counts = biden.analysis.value_counts()\n",
    "print(counts)\n",
    "pieplot = counts.plot(kind='pie',autopct='%1.1f%%')"
   ]
  },
  {
   "cell_type": "code",
   "execution_count": 30,
   "metadata": {},
   "outputs": [
    {
     "name": "stdout",
     "output_type": "stream",
     "text": [
      "Neutral     31606\n",
      "Positive    26721\n",
      "Negative    17547\n",
      "Name: analysis, dtype: int64\n"
     ]
    },
    {
     "data": {
      "image/png": "[encoded data removed]",
      "text/plain": [
       "<Figure size 432x288 with 1 Axes>"
      ]
     },
     "metadata": {},
     "output_type": "display_data"
    }
   ],
   "source": [
    "counts = trump.analysis.value_counts()\n",
    "print(counts)\n",
    "pieplot = counts.plot(kind='pie',autopct='%1.1f%%')"
   ]
  },
  {
   "cell_type": "code",
   "execution_count": 31,
   "metadata": {},
   "outputs": [],
   "source": [
    "clean_df = clean_df[['id', 'tweet', 'likes', 'retweet_count', 'source', 'lat', 'long', 'city','state_code','hashtag', 'Date', 'Time', 'polarity', 'analysis']]"
   ]
  },
  {
   "cell_type": "code",
   "execution_count": 32,
   "metadata": {
    "scrolled": true
   },
   "outputs": [
    {
     "data": {
      "text/html": [
       "<div>\n",
       "<style scoped>\n",
       "    .dataframe tbody tr th:only-of-type {\n",
       "        vertical-align: middle;\n",
       "    }\n",
       "\n",
       "    .dataframe tbody tr th {\n",
       "        vertical-align: top;\n",
       "    }\n",
       "\n",
       "    .dataframe thead th {\n",
       "        text-align: right;\n",
       "    }\n",
       "</style>\n",
       "<table border=\"1\" class=\"dataframe\">\n",
       "  <thead>\n",
       "    <tr style=\"text-align: right;\">\n",
       "      <th></th>\n",
       "      <th>id</th>\n",
       "      <th>tweet</th>\n",
       "      <th>likes</th>\n",
       "      <th>retweet_count</th>\n",
       "      <th>source</th>\n",
       "      <th>lat</th>\n",
       "      <th>long</th>\n",
       "      <th>city</th>\n",
       "      <th>state_code</th>\n",
       "      <th>hashtag</th>\n",
       "      <th>Date</th>\n",
       "      <th>Time</th>\n",
       "      <th>polarity</th>\n",
       "      <th>analysis</th>\n",
       "    </tr>\n",
       "  </thead>\n",
       "  <tbody>\n",
       "    <tr>\n",
       "      <th>0</th>\n",
       "      <td>0</td>\n",
       "      <td>#Trump: As a student I used to hear for years,...</td>\n",
       "      <td>2.0</td>\n",
       "      <td>1.0</td>\n",
       "      <td>Twitter Web App</td>\n",
       "      <td>45.520247</td>\n",
       "      <td>-122.674195</td>\n",
       "      <td>Portland</td>\n",
       "      <td>OR</td>\n",
       "      <td>Trump</td>\n",
       "      <td>10/15/2020</td>\n",
       "      <td>00:00:02</td>\n",
       "      <td>0.333333</td>\n",
       "      <td>Positive</td>\n",
       "    </tr>\n",
       "    <tr>\n",
       "      <th>1</th>\n",
       "      <td>1</td>\n",
       "      <td>You get a tie! And you get a tie! #Trump ‘s ra...</td>\n",
       "      <td>4.0</td>\n",
       "      <td>3.0</td>\n",
       "      <td>Twitter for iPhone</td>\n",
       "      <td>38.894992</td>\n",
       "      <td>-77.036558</td>\n",
       "      <td>Washington</td>\n",
       "      <td>DC</td>\n",
       "      <td>Trump</td>\n",
       "      <td>10/15/2020</td>\n",
       "      <td>00:00:08</td>\n",
       "      <td>0.000000</td>\n",
       "      <td>Neutral</td>\n",
       "    </tr>\n",
       "    <tr>\n",
       "      <th>2</th>\n",
       "      <td>2</td>\n",
       "      <td>#Trump #PresidentTrump #Trump2020LandslideVict...</td>\n",
       "      <td>3.0</td>\n",
       "      <td>5.0</td>\n",
       "      <td>Twitter for Android</td>\n",
       "      <td>32.717421</td>\n",
       "      <td>-117.162771</td>\n",
       "      <td>San Diego</td>\n",
       "      <td>CA</td>\n",
       "      <td>Trump</td>\n",
       "      <td>10/15/2020</td>\n",
       "      <td>00:00:26</td>\n",
       "      <td>0.500000</td>\n",
       "      <td>Positive</td>\n",
       "    </tr>\n",
       "    <tr>\n",
       "      <th>3</th>\n",
       "      <td>3</td>\n",
       "      <td>#Trump: Nobody likes to tell you this, but som...</td>\n",
       "      <td>1.0</td>\n",
       "      <td>1.0</td>\n",
       "      <td>Twitter Web App</td>\n",
       "      <td>45.520247</td>\n",
       "      <td>-122.674195</td>\n",
       "      <td>Portland</td>\n",
       "      <td>OR</td>\n",
       "      <td>Trump</td>\n",
       "      <td>10/15/2020</td>\n",
       "      <td>00:01:14</td>\n",
       "      <td>0.261905</td>\n",
       "      <td>Positive</td>\n",
       "    </tr>\n",
       "    <tr>\n",
       "      <th>4</th>\n",
       "      <td>4</td>\n",
       "      <td>@karatblood @KazePlays_JC Grab @realDonaldTrum...</td>\n",
       "      <td>2.0</td>\n",
       "      <td>0.0</td>\n",
       "      <td>Twitter for iPhone</td>\n",
       "      <td>41.882823</td>\n",
       "      <td>-87.686307</td>\n",
       "      <td>Chicago</td>\n",
       "      <td>IL</td>\n",
       "      <td>Trump</td>\n",
       "      <td>10/15/2020</td>\n",
       "      <td>00:01:30</td>\n",
       "      <td>0.000000</td>\n",
       "      <td>Neutral</td>\n",
       "    </tr>\n",
       "  </tbody>\n",
       "</table>\n",
       "</div>"
      ],
      "text/plain": [
       "   id                                              tweet  likes  \\\n",
       "0   0  #Trump: As a student I used to hear for years,...    2.0   \n",
       "1   1  You get a tie! And you get a tie! #Trump ‘s ra...    4.0   \n",
       "2   2  #Trump #PresidentTrump #Trump2020LandslideVict...    3.0   \n",
       "3   3  #Trump: Nobody likes to tell you this, but som...    1.0   \n",
       "4   4  @karatblood @KazePlays_JC Grab @realDonaldTrum...    2.0   \n",
       "\n",
       "   retweet_count               source        lat        long        city  \\\n",
       "0            1.0      Twitter Web App  45.520247 -122.674195    Portland   \n",
       "1            3.0   Twitter for iPhone  38.894992  -77.036558  Washington   \n",
       "2            5.0  Twitter for Android  32.717421 -117.162771   San Diego   \n",
       "3            1.0      Twitter Web App  45.520247 -122.674195    Portland   \n",
       "4            0.0   Twitter for iPhone  41.882823  -87.686307     Chicago   \n",
       "\n",
       "  state_code hashtag        Date      Time  polarity  analysis  \n",
       "0         OR   Trump  10/15/2020  00:00:02  0.333333  Positive  \n",
       "1         DC   Trump  10/15/2020  00:00:08  0.000000   Neutral  \n",
       "2         CA   Trump  10/15/2020  00:00:26  0.500000  Positive  \n",
       "3         OR   Trump  10/15/2020  00:01:14  0.261905  Positive  \n",
       "4         IL   Trump  10/15/2020  00:01:30  0.000000   Neutral  "
      ]
     },
     "execution_count": 32,
     "metadata": {},
     "output_type": "execute_result"
    }
   ],
   "source": [
    "clean_df.head()"
   ]
  },
  {
   "cell_type": "code",
   "execution_count": 33,
   "metadata": {},
   "outputs": [],
   "source": [
    "# clean_df = clean_df.groupby / city / avg / polarity\n",
    "# left join or right combine dataframes\n"
   ]
  },
  {
   "cell_type": "code",
   "execution_count": 34,
   "metadata": {},
   "outputs": [
    {
     "name": "stdout",
     "output_type": "stream",
     "text": [
      "2021-02-08 19:42:20,617 INFO sqlalchemy.engine.base.Engine PRAGMA main.table_info(\"tweet_counts\")\n",
      "2021-02-08 19:42:20,617 INFO sqlalchemy.engine.base.Engine ()\n",
      "2021-02-08 19:42:20,695 INFO sqlalchemy.engine.base.Engine BEGIN (implicit)\n",
      "2021-02-08 19:42:21,944 INFO sqlalchemy.engine.base.Engine INSERT INTO tweet_counts (id, tweet, likes, retweet_count, source, lat, long, city, state_code, hashtag, \"Date\", \"Time\", polarity, analysis) VALUES (?, ?, ?, ?, ?, ?, ?, ?, ?, ?, ?, ?, ?, ?)\n",
      "2021-02-08 19:42:21,945 INFO sqlalchemy.engine.base.Engine ((0, \"#Trump: As a student I used to hear for years, for ten years, I heard China! In 2019! And we have 1.5 and they don't know how many we have and I asked them how many do we have and they said 'sir we don't know.' But we have millions. Like 300 million.\\n\\nUm. What?\", 2.0, 1.0, 'Twitter Web App', 45.5202471, -122.6741949, 'Portland', 'OR', 'Trump', '10/15/2020', '00:00:02', 0.3333333333333333, 'Positive'), (1, 'You get a tie! And you get a tie! #Trump ‘s rally #Iowa https://t.co/jJalUUmh5D', 4.0, 3.0, 'Twitter for iPhone', 38.8949924, -77.0365581, 'Washington', 'DC', 'Trump', '10/15/2020', '00:00:08', 0.0, 'Neutral'), (2, '#Trump #PresidentTrump #Trump2020LandslideVictory #Trump2020 #MAGA #KAG #4MoreYears #America #AmericaFirst #AllLivesMatter #Winning #Vote #VoteInPerson #VoteTrump #VotePresidentTrump https://t.co/TzXBKOvgNs', 3.0, 5.0, 'Twitter for Android', 32.7174209, -117.1627714, 'San Diego', 'CA', 'Trump', '10/15/2020', '00:00:26', 0.5, 'Positive'), (3, \"#Trump: Nobody likes to tell you this, but some of the farmers were doing better the way I was doing it than they were by working their asses off.\\n\\nAnd that check? It's totally in the mail, right Don?\", 1.0, 1.0, 'Twitter Web App', 45.5202471, -122.6741949, 'Portland', 'OR', 'Trump', '10/15/2020', '00:01:14', 0.2619047619047619, 'Positive'), (4, '@karatblood @KazePlays_JC Grab @realDonaldTrump by the balls &amp; chuck the bastard out the door onto #PennsylvaniaAvenue &amp; form a line &amp; everybody gets to kick #DonaldTrump in the nuts! Please note 1 kick per person only! #BidenHarrisToSaveAmerica #VoteBlueToSaveOurDemocracy', 2.0, 0.0, 'Twitter for iPhone', 41.8828229, -87.686307, 'Chicago', 'IL', 'Trump', '10/15/2020', '00:01:30', 0.0, 'Neutral'), (5, 'Who does #trump owe 420 million dollars to? What are the terms? Who is #DonaldTrump beholden to? WE DEMAND TO KNOW!\\n#TrumpIsANationalSecurityRisk \\n#FollowTheMoney \\n#TrumpTaxCheat \\n#TrumpTaxFraud', 1.0, 0.0, 'Twitter Web App', 41.87556160000001, -87.6244212, 'Chicago', 'IL', 'Trump', '10/15/2020', '00:01:44', 0.0, 'Neutral'), (6, '#TheWeek: \"#Trump in Penn: \"I saved suburbia. I got rid of a regulation that was a disaster and it was really unfair and it\\'s gotten a lot worse und ... (5 characters truncated) ... ama and Biden. You damn well better vote for me Pennsylvania, you better vote.\" But he never did identify the \\'regulation.\\' https://t.co/7CX0PBJ2hA', 0.0, 0.0, 'Twitter Web App', 34.148398900000004, -118.3961877, 'Los Angeles', 'CA', 'Trump', '10/15/2020', '00:01:53', 0.024999999999999994, 'Positive'), (7, \"#TheReidOut \\n\\nAm I suppose to feel badly for @OMAROSA? Isn't she the person who once claimed #Trump critics would have to bow at the feet of Donald? Sorry the snakes deserve one another. \\n\\n@JoyAnnReid\", 2.0, 0.0, 'Twitter for Android', 38.8949924, -77.0365581, 'Washington', 'DC', 'Trump', '10/15/2020', '00:01:53', -0.5999999999999999, 'Negative')  ... displaying 10 of 141640 total bound parameter sets ...  (141638, 'You moving near #Biden 🤔 https://t.co/1F6i1YIJ2P', 0.0, 0.0, 'Twitter for iPhone', 39.9527237, -75.16352619999998, 'Philadelphia', 'PA', 'Biden', '11/08/2020', '23:56:21', 0.1, 'Positive'), (141639, '@FLOTUS I’m excited to have a FLOTUS whose vagina I haven’t seen on twitter... #biden', 0.0, 0.0, 'Twitter for iPhone', 38.8949924, -77.0365581, 'Washington', 'DC', 'Biden', '11/08/2020', '23:58:24', 0.375, 'Positive'))\n",
      "2021-02-08 19:42:22,620 INFO sqlalchemy.engine.base.Engine COMMIT\n"
     ]
    }
   ],
   "source": [
    "# clean_df.to_sql(\"tweet_counts\", conn, if_exists=\"append\", index=False)"
   ]
  },
  {
   "cell_type": "code",
   "execution_count": null,
   "metadata": {},
   "outputs": [],
   "source": [
    "#Count of tweets total\n",
    "countdf = clean_df[\"hashtag\"]\n",
    "countdf = clean_df[\"hashtag\"].value_counts().rename_axis('hashtag').to_frame('counts').reset_index()\n",
    "countdf"
   ]
  },
  {
   "cell_type": "code",
   "execution_count": null,
   "metadata": {},
   "outputs": [],
   "source": [
    "count = countdf.plot.bar(x = 'hashtag', y = 'counts', rot=0)"
   ]
  },
  {
   "cell_type": "code",
   "execution_count": null,
   "metadata": {},
   "outputs": [],
   "source": [
    "# count of tweets by state\n",
    "trump_state = clean_df.loc[clean_df['hashtag']== 'Trump', :]\n",
    "trump_state = trump_state.groupby(['state']).count()\n",
    "state_t = pd.DataFrame(trump_state)\n",
    "\n",
    "biden_state = clean_df.loc[clean_df['hashtag']== 'Biden', :]\n",
    "biden_state = biden_state.groupby(['state']).count()\n",
    "state_b = pd.DataFrame(biden_state)\n",
    "\n",
    "state_data = pd.merge (state_t, state_b, on = 'state')\n",
    "state_data = state_data.rename(columns={'tweet_x': 'Trump Tweets', 'tweet_y':'Biden Tweets'})\n",
    "\n",
    "\n",
    "state_data = state_data[['Trump Tweets', 'Biden Tweets']]\n",
    "state_data.head()"
   ]
  },
  {
   "cell_type": "code",
   "execution_count": null,
   "metadata": {},
   "outputs": [],
   "source": [
    "state_data.plot(kind='bar',title='Number of Tweets per State', figsize=(20,10), width = 1)\n",
    "plt.xlabel('State')\n",
    "plt.ylabel('Number of Tweets')"
   ]
  },
  {
   "cell_type": "code",
   "execution_count": null,
   "metadata": {},
   "outputs": [],
   "source": [
    "# Top 5 sources\n",
    "trump_source = clean_df.loc[clean_df['hashtag']== 'Trump', :]\n",
    "trump_source = trump_source.groupby(['source']).count().tweet.sort_values(ascending=False)[:6]\n",
    "source_t = pd.DataFrame(trump_source)\n",
    "\n",
    "biden_source = clean_df.loc[clean_df['hashtag']== 'Biden', :]\n",
    "biden_source = biden_source.groupby(['source']).count().tweet.sort_values(ascending=False)[:6]\n",
    "source_b = pd.DataFrame(biden_source)\n",
    "\n",
    "source_data = pd.merge (source_t, source_b, on = 'source')\n",
    "source_data = source_data.rename(columns={'tweet_x': 'Trump Tweets', 'tweet_y':'Biden Tweets'})\n",
    "\n",
    "\n",
    "source_data = source_data[['Trump Tweets', 'Biden Tweets']]\n",
    "source_data.head()"
   ]
  },
  {
   "cell_type": "code",
   "execution_count": null,
   "metadata": {},
   "outputs": [],
   "source": [
    "source_data.plot(kind='bar',title='Number of Tweets per Source', figsize=(20,10), width = 0.75)\n",
    "plt.xlabel('Source')\n",
    "plt.ylabel('Number of Tweets')"
   ]
  },
  {
   "cell_type": "code",
   "execution_count": null,
   "metadata": {},
   "outputs": [],
   "source": []
  },
  {
   "cell_type": "code",
   "execution_count": null,
   "metadata": {},
   "outputs": [],
   "source": []
  },
  {
   "cell_type": "code",
   "execution_count": null,
   "metadata": {},
   "outputs": [],
   "source": []
  },
  {
   "cell_type": "code",
   "execution_count": null,
   "metadata": {},
   "outputs": [],
   "source": []
  },
  {
   "cell_type": "code",
   "execution_count": null,
   "metadata": {},
   "outputs": [],
   "source": []
  }
 ],
 "metadata": {
  "kernelspec": {
   "display_name": "Python 3",
   "language": "python",
   "name": "python3"
  },
  "language_info": {
   "codemirror_mode": {
    "name": "ipython",
    "version": 3
   },
   "file_extension": ".py",
   "mimetype": "text/x-python",
   "name": "python",
   "nbconvert_exporter": "python",
   "pygments_lexer": "ipython3",
   "version": "3.6.10"
  }
 },
 "nbformat": 4,
 "nbformat_minor": 4
}
